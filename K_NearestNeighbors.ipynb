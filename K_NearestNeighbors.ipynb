{
  "nbformat": 4,
  "nbformat_minor": 0,
  "metadata": {
    "colab": {
      "name": "K-NearestNeighbors",
      "provenance": [],
      "authorship_tag": "ABX9TyNY2EN6CvFUFnCaGWJCXRC5",
      "include_colab_link": true
    },
    "kernelspec": {
      "name": "python3",
      "display_name": "Python 3"
    },
    "language_info": {
      "name": "python"
    }
  },
  "cells": [
    {
      "cell_type": "markdown",
      "metadata": {
        "id": "view-in-github",
        "colab_type": "text"
      },
      "source": [
        "<a href=\"https://colab.research.google.com/github/ZenonNoPro/KNearestNeighbors/blob/main/K_NearestNeighbors.ipynb\" target=\"_parent\"><img src=\"https://colab.research.google.com/assets/colab-badge.svg\" alt=\"Open In Colab\"/></a>"
      ]
    },
    {
      "cell_type": "code",
      "execution_count": 87,
      "metadata": {
        "colab": {
          "base_uri": "https://localhost:8080/"
        },
        "id": "9O2OYIK0hJbx",
        "outputId": "bfbd6114-9e6c-41f5-f954-64569874a91c"
      },
      "outputs": [
        {
          "output_type": "stream",
          "name": "stdout",
          "text": [
            "98.0\n"
          ]
        }
      ],
      "source": [
        "import numpy as np\n",
        "from sklearn.metrics import accuracy_score\n",
        "from sklearn import neighbors, datasets\n",
        "from sklearn.model_selection import train_test_split\n",
        "\n",
        "iris = datasets.load_iris()\n",
        "iris_data_train, iris_data_test, iris_target_train, iris_target_test = train_test_split(iris.data, iris.target, test_size = 50)\n",
        "\n",
        "KNN = neighbors.KNeighborsClassifier(n_neighbors = len(np.unique(iris.target)), weights = \"distance\", p = 2)\n",
        "KNN.fit(iris_data_train, iris_target_train)\n",
        "\n",
        "KNN_pred = KNN.predict(iris_data_test)\n",
        "print(100 * accuracy_score(KNN_pred, iris_target_test))"
      ]
    }
  ]
}